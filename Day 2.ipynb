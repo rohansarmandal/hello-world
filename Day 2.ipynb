{
  "nbformat": 4,
  "nbformat_minor": 0,
  "metadata": {
    "colab": {
      "name": "Untitled2.ipynb",
      "provenance": [],
      "authorship_tag": "ABX9TyP8pjx9leYmkOgDjjRVsqhI",
      "include_colab_link": true
    },
    "kernelspec": {
      "name": "python3",
      "display_name": "Python 3"
    },
    "language_info": {
      "name": "python"
    }
  },
  "cells": [
    {
      "cell_type": "markdown",
      "metadata": {
        "id": "view-in-github",
        "colab_type": "text"
      },
      "source": [
        "<a href=\"https://colab.research.google.com/github/rohansarmandal/hello-world/blob/main/Day%202.ipynb\" target=\"_parent\"><img src=\"https://colab.research.google.com/assets/colab-badge.svg\" alt=\"Open In Colab\"/></a>"
      ]
    },
    {
      "cell_type": "code",
      "metadata": {
        "colab": {
          "base_uri": "https://localhost:8080/"
        },
        "id": "DRFscvjIaoMV",
        "outputId": "d0f8ce12-07af-4805-e9cd-bed4521d6703"
      },
      "source": [
        "import pandas as pd\n",
        "pd"
      ],
      "execution_count": 2,
      "outputs": [
        {
          "output_type": "execute_result",
          "data": {
            "text/plain": [
              "<module 'pandas' from '/usr/local/lib/python3.7/dist-packages/pandas/__init__.py'>"
            ]
          },
          "metadata": {
            "tags": []
          },
          "execution_count": 2
        }
      ]
    },
    {
      "cell_type": "code",
      "metadata": {
        "colab": {
          "base_uri": "https://localhost:8080/",
          "height": 374
        },
        "id": "ME0ESwa7bCJG",
        "outputId": "f9970b46-1d02-46d7-e339-79f2a1ab4746"
      },
      "source": [
        "df= pd.read_csv(r'‪D:\\hospitaldata.csv')"
      ],
      "execution_count": 4,
      "outputs": [
        {
          "output_type": "error",
          "ename": "FileNotFoundError",
          "evalue": "ignored",
          "traceback": [
            "\u001b[0;31m---------------------------------------------------------------------------\u001b[0m",
            "\u001b[0;31mFileNotFoundError\u001b[0m                         Traceback (most recent call last)",
            "\u001b[0;32m<ipython-input-4-665a179292dc>\u001b[0m in \u001b[0;36m<module>\u001b[0;34m()\u001b[0m\n\u001b[0;32m----> 1\u001b[0;31m \u001b[0mdf\u001b[0m\u001b[0;34m=\u001b[0m \u001b[0mpd\u001b[0m\u001b[0;34m.\u001b[0m\u001b[0mread_csv\u001b[0m\u001b[0;34m(\u001b[0m\u001b[0;34mr'‪D:\\hospitaldata.csv'\u001b[0m\u001b[0;34m)\u001b[0m\u001b[0;34m\u001b[0m\u001b[0;34m\u001b[0m\u001b[0m\n\u001b[0m",
            "\u001b[0;32m/usr/local/lib/python3.7/dist-packages/pandas/io/parsers.py\u001b[0m in \u001b[0;36mread_csv\u001b[0;34m(filepath_or_buffer, sep, delimiter, header, names, index_col, usecols, squeeze, prefix, mangle_dupe_cols, dtype, engine, converters, true_values, false_values, skipinitialspace, skiprows, skipfooter, nrows, na_values, keep_default_na, na_filter, verbose, skip_blank_lines, parse_dates, infer_datetime_format, keep_date_col, date_parser, dayfirst, cache_dates, iterator, chunksize, compression, thousands, decimal, lineterminator, quotechar, quoting, doublequote, escapechar, comment, encoding, dialect, error_bad_lines, warn_bad_lines, delim_whitespace, low_memory, memory_map, float_precision)\u001b[0m\n\u001b[1;32m    686\u001b[0m     )\n\u001b[1;32m    687\u001b[0m \u001b[0;34m\u001b[0m\u001b[0m\n\u001b[0;32m--> 688\u001b[0;31m     \u001b[0;32mreturn\u001b[0m \u001b[0m_read\u001b[0m\u001b[0;34m(\u001b[0m\u001b[0mfilepath_or_buffer\u001b[0m\u001b[0;34m,\u001b[0m \u001b[0mkwds\u001b[0m\u001b[0;34m)\u001b[0m\u001b[0;34m\u001b[0m\u001b[0;34m\u001b[0m\u001b[0m\n\u001b[0m\u001b[1;32m    689\u001b[0m \u001b[0;34m\u001b[0m\u001b[0m\n\u001b[1;32m    690\u001b[0m \u001b[0;34m\u001b[0m\u001b[0m\n",
            "\u001b[0;32m/usr/local/lib/python3.7/dist-packages/pandas/io/parsers.py\u001b[0m in \u001b[0;36m_read\u001b[0;34m(filepath_or_buffer, kwds)\u001b[0m\n\u001b[1;32m    452\u001b[0m \u001b[0;34m\u001b[0m\u001b[0m\n\u001b[1;32m    453\u001b[0m     \u001b[0;31m# Create the parser.\u001b[0m\u001b[0;34m\u001b[0m\u001b[0;34m\u001b[0m\u001b[0;34m\u001b[0m\u001b[0m\n\u001b[0;32m--> 454\u001b[0;31m     \u001b[0mparser\u001b[0m \u001b[0;34m=\u001b[0m \u001b[0mTextFileReader\u001b[0m\u001b[0;34m(\u001b[0m\u001b[0mfp_or_buf\u001b[0m\u001b[0;34m,\u001b[0m \u001b[0;34m**\u001b[0m\u001b[0mkwds\u001b[0m\u001b[0;34m)\u001b[0m\u001b[0;34m\u001b[0m\u001b[0;34m\u001b[0m\u001b[0m\n\u001b[0m\u001b[1;32m    455\u001b[0m \u001b[0;34m\u001b[0m\u001b[0m\n\u001b[1;32m    456\u001b[0m     \u001b[0;32mif\u001b[0m \u001b[0mchunksize\u001b[0m \u001b[0;32mor\u001b[0m \u001b[0miterator\u001b[0m\u001b[0;34m:\u001b[0m\u001b[0;34m\u001b[0m\u001b[0;34m\u001b[0m\u001b[0m\n",
            "\u001b[0;32m/usr/local/lib/python3.7/dist-packages/pandas/io/parsers.py\u001b[0m in \u001b[0;36m__init__\u001b[0;34m(self, f, engine, **kwds)\u001b[0m\n\u001b[1;32m    946\u001b[0m             \u001b[0mself\u001b[0m\u001b[0;34m.\u001b[0m\u001b[0moptions\u001b[0m\u001b[0;34m[\u001b[0m\u001b[0;34m\"has_index_names\"\u001b[0m\u001b[0;34m]\u001b[0m \u001b[0;34m=\u001b[0m \u001b[0mkwds\u001b[0m\u001b[0;34m[\u001b[0m\u001b[0;34m\"has_index_names\"\u001b[0m\u001b[0;34m]\u001b[0m\u001b[0;34m\u001b[0m\u001b[0;34m\u001b[0m\u001b[0m\n\u001b[1;32m    947\u001b[0m \u001b[0;34m\u001b[0m\u001b[0m\n\u001b[0;32m--> 948\u001b[0;31m         \u001b[0mself\u001b[0m\u001b[0;34m.\u001b[0m\u001b[0m_make_engine\u001b[0m\u001b[0;34m(\u001b[0m\u001b[0mself\u001b[0m\u001b[0;34m.\u001b[0m\u001b[0mengine\u001b[0m\u001b[0;34m)\u001b[0m\u001b[0;34m\u001b[0m\u001b[0;34m\u001b[0m\u001b[0m\n\u001b[0m\u001b[1;32m    949\u001b[0m \u001b[0;34m\u001b[0m\u001b[0m\n\u001b[1;32m    950\u001b[0m     \u001b[0;32mdef\u001b[0m \u001b[0mclose\u001b[0m\u001b[0;34m(\u001b[0m\u001b[0mself\u001b[0m\u001b[0;34m)\u001b[0m\u001b[0;34m:\u001b[0m\u001b[0;34m\u001b[0m\u001b[0;34m\u001b[0m\u001b[0m\n",
            "\u001b[0;32m/usr/local/lib/python3.7/dist-packages/pandas/io/parsers.py\u001b[0m in \u001b[0;36m_make_engine\u001b[0;34m(self, engine)\u001b[0m\n\u001b[1;32m   1178\u001b[0m     \u001b[0;32mdef\u001b[0m \u001b[0m_make_engine\u001b[0m\u001b[0;34m(\u001b[0m\u001b[0mself\u001b[0m\u001b[0;34m,\u001b[0m \u001b[0mengine\u001b[0m\u001b[0;34m=\u001b[0m\u001b[0;34m\"c\"\u001b[0m\u001b[0;34m)\u001b[0m\u001b[0;34m:\u001b[0m\u001b[0;34m\u001b[0m\u001b[0;34m\u001b[0m\u001b[0m\n\u001b[1;32m   1179\u001b[0m         \u001b[0;32mif\u001b[0m \u001b[0mengine\u001b[0m \u001b[0;34m==\u001b[0m \u001b[0;34m\"c\"\u001b[0m\u001b[0;34m:\u001b[0m\u001b[0;34m\u001b[0m\u001b[0;34m\u001b[0m\u001b[0m\n\u001b[0;32m-> 1180\u001b[0;31m             \u001b[0mself\u001b[0m\u001b[0;34m.\u001b[0m\u001b[0m_engine\u001b[0m \u001b[0;34m=\u001b[0m \u001b[0mCParserWrapper\u001b[0m\u001b[0;34m(\u001b[0m\u001b[0mself\u001b[0m\u001b[0;34m.\u001b[0m\u001b[0mf\u001b[0m\u001b[0;34m,\u001b[0m \u001b[0;34m**\u001b[0m\u001b[0mself\u001b[0m\u001b[0;34m.\u001b[0m\u001b[0moptions\u001b[0m\u001b[0;34m)\u001b[0m\u001b[0;34m\u001b[0m\u001b[0;34m\u001b[0m\u001b[0m\n\u001b[0m\u001b[1;32m   1181\u001b[0m         \u001b[0;32melse\u001b[0m\u001b[0;34m:\u001b[0m\u001b[0;34m\u001b[0m\u001b[0;34m\u001b[0m\u001b[0m\n\u001b[1;32m   1182\u001b[0m             \u001b[0;32mif\u001b[0m \u001b[0mengine\u001b[0m \u001b[0;34m==\u001b[0m \u001b[0;34m\"python\"\u001b[0m\u001b[0;34m:\u001b[0m\u001b[0;34m\u001b[0m\u001b[0;34m\u001b[0m\u001b[0m\n",
            "\u001b[0;32m/usr/local/lib/python3.7/dist-packages/pandas/io/parsers.py\u001b[0m in \u001b[0;36m__init__\u001b[0;34m(self, src, **kwds)\u001b[0m\n\u001b[1;32m   2008\u001b[0m         \u001b[0mkwds\u001b[0m\u001b[0;34m[\u001b[0m\u001b[0;34m\"usecols\"\u001b[0m\u001b[0;34m]\u001b[0m \u001b[0;34m=\u001b[0m \u001b[0mself\u001b[0m\u001b[0;34m.\u001b[0m\u001b[0musecols\u001b[0m\u001b[0;34m\u001b[0m\u001b[0;34m\u001b[0m\u001b[0m\n\u001b[1;32m   2009\u001b[0m \u001b[0;34m\u001b[0m\u001b[0m\n\u001b[0;32m-> 2010\u001b[0;31m         \u001b[0mself\u001b[0m\u001b[0;34m.\u001b[0m\u001b[0m_reader\u001b[0m \u001b[0;34m=\u001b[0m \u001b[0mparsers\u001b[0m\u001b[0;34m.\u001b[0m\u001b[0mTextReader\u001b[0m\u001b[0;34m(\u001b[0m\u001b[0msrc\u001b[0m\u001b[0;34m,\u001b[0m \u001b[0;34m**\u001b[0m\u001b[0mkwds\u001b[0m\u001b[0;34m)\u001b[0m\u001b[0;34m\u001b[0m\u001b[0;34m\u001b[0m\u001b[0m\n\u001b[0m\u001b[1;32m   2011\u001b[0m         \u001b[0mself\u001b[0m\u001b[0;34m.\u001b[0m\u001b[0munnamed_cols\u001b[0m \u001b[0;34m=\u001b[0m \u001b[0mself\u001b[0m\u001b[0;34m.\u001b[0m\u001b[0m_reader\u001b[0m\u001b[0;34m.\u001b[0m\u001b[0munnamed_cols\u001b[0m\u001b[0;34m\u001b[0m\u001b[0;34m\u001b[0m\u001b[0m\n\u001b[1;32m   2012\u001b[0m \u001b[0;34m\u001b[0m\u001b[0m\n",
            "\u001b[0;32mpandas/_libs/parsers.pyx\u001b[0m in \u001b[0;36mpandas._libs.parsers.TextReader.__cinit__\u001b[0;34m()\u001b[0m\n",
            "\u001b[0;32mpandas/_libs/parsers.pyx\u001b[0m in \u001b[0;36mpandas._libs.parsers.TextReader._setup_parser_source\u001b[0;34m()\u001b[0m\n",
            "\u001b[0;31mFileNotFoundError\u001b[0m: [Errno 2] No such file or directory: '\\u202aD:\\\\hospitaldata.csv'"
          ]
        }
      ]
    },
    {
      "cell_type": "code",
      "metadata": {
        "colab": {
          "resources": {
            "http://localhost:8080/nbextensions/google.colab/files.js": {
              "data": "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",
              "ok": true,
              "headers": [
                [
                  "content-type",
                  "application/javascript"
                ]
              ],
              "status": 200,
              "status_text": ""
            }
          },
          "base_uri": "https://localhost:8080/",
          "height": 72
        },
        "id": "51slHNbZcG55",
        "outputId": "66a52186-4cdf-4de3-8e64-3f96c4de844a"
      },
      "source": [
        "from google.colab import files\n",
        "uploaded = files.upload()\n"
      ],
      "execution_count": 5,
      "outputs": [
        {
          "output_type": "display_data",
          "data": {
            "text/html": [
              "\n",
              "     <input type=\"file\" id=\"files-0b2f85d5-4857-4fe1-a267-b5ce4b4d862b\" name=\"files[]\" multiple disabled\n",
              "        style=\"border:none\" />\n",
              "     <output id=\"result-0b2f85d5-4857-4fe1-a267-b5ce4b4d862b\">\n",
              "      Upload widget is only available when the cell has been executed in the\n",
              "      current browser session. Please rerun this cell to enable.\n",
              "      </output>\n",
              "      <script src=\"/nbextensions/google.colab/files.js\"></script> "
            ],
            "text/plain": [
              "<IPython.core.display.HTML object>"
            ]
          },
          "metadata": {
            "tags": []
          }
        },
        {
          "output_type": "stream",
          "text": [
            "Saving hospitaldata.csv to hospitaldata.csv\n"
          ],
          "name": "stdout"
        }
      ]
    },
    {
      "cell_type": "code",
      "metadata": {
        "id": "b36MdVKqcTI3"
      },
      "source": [
        "import io\n",
        "df = pd.read_csv(io.BytesIO(uploaded['hospitaldata.csv']))"
      ],
      "execution_count": 6,
      "outputs": []
    },
    {
      "cell_type": "code",
      "metadata": {
        "colab": {
          "base_uri": "https://localhost:8080/",
          "height": 827
        },
        "id": "iSLruQ2gcehI",
        "outputId": "247fc778-01dc-4345-a6e4-51a974dea8f4"
      },
      "source": [
        "df"
      ],
      "execution_count": 7,
      "outputs": [
        {
          "output_type": "execute_result",
          "data": {
            "text/html": [
              "<div>\n",
              "<style scoped>\n",
              "    .dataframe tbody tr th:only-of-type {\n",
              "        vertical-align: middle;\n",
              "    }\n",
              "\n",
              "    .dataframe tbody tr th {\n",
              "        vertical-align: top;\n",
              "    }\n",
              "\n",
              "    .dataframe thead th {\n",
              "        text-align: right;\n",
              "    }\n",
              "</style>\n",
              "<table border=\"1\" class=\"dataframe\">\n",
              "  <thead>\n",
              "    <tr style=\"text-align: right;\">\n",
              "      <th></th>\n",
              "      <th>Provider Number</th>\n",
              "      <th>Hospital Name</th>\n",
              "      <th>Address 1</th>\n",
              "      <th>Address 2</th>\n",
              "      <th>Address 3</th>\n",
              "      <th>City</th>\n",
              "      <th>State</th>\n",
              "      <th>ZIP Code</th>\n",
              "      <th>County</th>\n",
              "      <th>Phone Number</th>\n",
              "      <th>Hospital Type</th>\n",
              "      <th>Hospital Ownership</th>\n",
              "      <th>Emergency Services</th>\n",
              "    </tr>\n",
              "  </thead>\n",
              "  <tbody>\n",
              "    <tr>\n",
              "      <th>0</th>\n",
              "      <td>010001</td>\n",
              "      <td>SOUTHEAST ALABAMA MEDICAL CENTER</td>\n",
              "      <td>1108 ROSS CLARK CIRCLE</td>\n",
              "      <td>NaN</td>\n",
              "      <td>NaN</td>\n",
              "      <td>DOTHAN</td>\n",
              "      <td>AL</td>\n",
              "      <td>36301</td>\n",
              "      <td>HOUSTON</td>\n",
              "      <td>3347938701</td>\n",
              "      <td>Acute Care Hospitals</td>\n",
              "      <td>Government - Hospital District or Authority</td>\n",
              "      <td>Yes</td>\n",
              "    </tr>\n",
              "    <tr>\n",
              "      <th>1</th>\n",
              "      <td>010005</td>\n",
              "      <td>MARSHALL MEDICAL CENTER SOUTH</td>\n",
              "      <td>2505 U S HIGHWAY 431 NORTH</td>\n",
              "      <td>NaN</td>\n",
              "      <td>NaN</td>\n",
              "      <td>BOAZ</td>\n",
              "      <td>AL</td>\n",
              "      <td>35957</td>\n",
              "      <td>MARSHALL</td>\n",
              "      <td>2565938310</td>\n",
              "      <td>Acute Care Hospitals</td>\n",
              "      <td>Government - Hospital District or Authority</td>\n",
              "      <td>Yes</td>\n",
              "    </tr>\n",
              "    <tr>\n",
              "      <th>2</th>\n",
              "      <td>010006</td>\n",
              "      <td>ELIZA COFFEE MEMORIAL HOSPITAL</td>\n",
              "      <td>205 MARENGO STREET</td>\n",
              "      <td>NaN</td>\n",
              "      <td>NaN</td>\n",
              "      <td>FLORENCE</td>\n",
              "      <td>AL</td>\n",
              "      <td>35631</td>\n",
              "      <td>LAUDERDALE</td>\n",
              "      <td>2567688400</td>\n",
              "      <td>Acute Care Hospitals</td>\n",
              "      <td>Government - Hospital District or Authority</td>\n",
              "      <td>Yes</td>\n",
              "    </tr>\n",
              "    <tr>\n",
              "      <th>3</th>\n",
              "      <td>010007</td>\n",
              "      <td>MIZELL MEMORIAL HOSPITAL</td>\n",
              "      <td>702 N MAIN ST</td>\n",
              "      <td>NaN</td>\n",
              "      <td>NaN</td>\n",
              "      <td>OPP</td>\n",
              "      <td>AL</td>\n",
              "      <td>36467</td>\n",
              "      <td>COVINGTON</td>\n",
              "      <td>3344933541</td>\n",
              "      <td>Acute Care Hospitals</td>\n",
              "      <td>Voluntary non-profit - Private</td>\n",
              "      <td>Yes</td>\n",
              "    </tr>\n",
              "    <tr>\n",
              "      <th>4</th>\n",
              "      <td>010008</td>\n",
              "      <td>CRENSHAW COMMUNITY HOSPITAL</td>\n",
              "      <td>101 HOSPITAL CIRCLE</td>\n",
              "      <td>NaN</td>\n",
              "      <td>NaN</td>\n",
              "      <td>LUVERNE</td>\n",
              "      <td>AL</td>\n",
              "      <td>36049</td>\n",
              "      <td>CRENSHAW</td>\n",
              "      <td>3343353374</td>\n",
              "      <td>Acute Care Hospitals</td>\n",
              "      <td>Proprietary</td>\n",
              "      <td>Yes</td>\n",
              "    </tr>\n",
              "    <tr>\n",
              "      <th>...</th>\n",
              "      <td>...</td>\n",
              "      <td>...</td>\n",
              "      <td>...</td>\n",
              "      <td>...</td>\n",
              "      <td>...</td>\n",
              "      <td>...</td>\n",
              "      <td>...</td>\n",
              "      <td>...</td>\n",
              "      <td>...</td>\n",
              "      <td>...</td>\n",
              "      <td>...</td>\n",
              "      <td>...</td>\n",
              "      <td>...</td>\n",
              "    </tr>\n",
              "    <tr>\n",
              "      <th>4821</th>\n",
              "      <td>670072</td>\n",
              "      <td>WESTBURY COMMUNITY HOSPITAL, LLC</td>\n",
              "      <td>5556 GASMER</td>\n",
              "      <td>NaN</td>\n",
              "      <td>NaN</td>\n",
              "      <td>HOUSTON</td>\n",
              "      <td>TX</td>\n",
              "      <td>77035</td>\n",
              "      <td>HARRIS</td>\n",
              "      <td>7134222650</td>\n",
              "      <td>Acute Care Hospitals</td>\n",
              "      <td>Proprietary</td>\n",
              "      <td>Yes</td>\n",
              "    </tr>\n",
              "    <tr>\n",
              "      <th>4822</th>\n",
              "      <td>670073</td>\n",
              "      <td>METHODIST HOSPITAL FOR SURGERY</td>\n",
              "      <td>17101 DALLAS PARKWAY</td>\n",
              "      <td>NaN</td>\n",
              "      <td>NaN</td>\n",
              "      <td>ADDISON</td>\n",
              "      <td>TX</td>\n",
              "      <td>75001</td>\n",
              "      <td>DALLAS</td>\n",
              "      <td>4692483900</td>\n",
              "      <td>Acute Care Hospitals</td>\n",
              "      <td>Proprietary</td>\n",
              "      <td>Yes</td>\n",
              "    </tr>\n",
              "    <tr>\n",
              "      <th>4823</th>\n",
              "      <td>670075</td>\n",
              "      <td>ST LUKE'S HOSPITAL AT THE VINTAGE, LLC</td>\n",
              "      <td>20171 CHASEWOOD PARK DRIVE</td>\n",
              "      <td>NaN</td>\n",
              "      <td>NaN</td>\n",
              "      <td>HOUSTON</td>\n",
              "      <td>TX</td>\n",
              "      <td>77070</td>\n",
              "      <td>HARRIS</td>\n",
              "      <td>8325345000</td>\n",
              "      <td>Acute Care Hospitals</td>\n",
              "      <td>Proprietary</td>\n",
              "      <td>Yes</td>\n",
              "    </tr>\n",
              "    <tr>\n",
              "      <th>4824</th>\n",
              "      <td>670076</td>\n",
              "      <td>HERITAGE PARK SURGICAL HOSPITAL</td>\n",
              "      <td>3601 CALAIS DRIVE</td>\n",
              "      <td>NaN</td>\n",
              "      <td>NaN</td>\n",
              "      <td>SHERMAN</td>\n",
              "      <td>TX</td>\n",
              "      <td>75090</td>\n",
              "      <td>GRAYSON</td>\n",
              "      <td>9038133728</td>\n",
              "      <td>Acute Care Hospitals</td>\n",
              "      <td>Proprietary</td>\n",
              "      <td>Yes</td>\n",
              "    </tr>\n",
              "    <tr>\n",
              "      <th>4825</th>\n",
              "      <td>670077</td>\n",
              "      <td>METHODIST WEST HOUSTON HOSPITAL</td>\n",
              "      <td>18500 KATY FREEWAY</td>\n",
              "      <td>NaN</td>\n",
              "      <td>NaN</td>\n",
              "      <td>HOUSTON</td>\n",
              "      <td>TX</td>\n",
              "      <td>77094</td>\n",
              "      <td>HARRIS</td>\n",
              "      <td>8325221000</td>\n",
              "      <td>Acute Care Hospitals</td>\n",
              "      <td>Voluntary non-profit - Private</td>\n",
              "      <td>Yes</td>\n",
              "    </tr>\n",
              "  </tbody>\n",
              "</table>\n",
              "<p>4826 rows × 13 columns</p>\n",
              "</div>"
            ],
            "text/plain": [
              "     Provider Number  ... Emergency Services\n",
              "0             010001  ...                Yes\n",
              "1             010005  ...                Yes\n",
              "2             010006  ...                Yes\n",
              "3             010007  ...                Yes\n",
              "4             010008  ...                Yes\n",
              "...              ...  ...                ...\n",
              "4821          670072  ...                Yes\n",
              "4822          670073  ...                Yes\n",
              "4823          670075  ...                Yes\n",
              "4824          670076  ...                Yes\n",
              "4825          670077  ...                Yes\n",
              "\n",
              "[4826 rows x 13 columns]"
            ]
          },
          "metadata": {
            "tags": []
          },
          "execution_count": 7
        }
      ]
    },
    {
      "cell_type": "code",
      "metadata": {
        "colab": {
          "base_uri": "https://localhost:8080/"
        },
        "id": "UnyYA6yrdmzJ",
        "outputId": "5fd5c3b4-e4b4-446e-86ee-a39a71e6f8f5"
      },
      "source": [
        "type(df)"
      ],
      "execution_count": 8,
      "outputs": [
        {
          "output_type": "execute_result",
          "data": {
            "text/plain": [
              "pandas.core.frame.DataFrame"
            ]
          },
          "metadata": {
            "tags": []
          },
          "execution_count": 8
        }
      ]
    },
    {
      "cell_type": "code",
      "metadata": {
        "id": "tPgbSJwpf-y1"
      },
      "source": [
        "df=df.set_index('Hospital Name')"
      ],
      "execution_count": 11,
      "outputs": []
    },
    {
      "cell_type": "code",
      "metadata": {
        "colab": {
          "base_uri": "https://localhost:8080/",
          "height": 807
        },
        "id": "TW3JDa9XgS5C",
        "outputId": "e74174d9-d73d-4b48-a56c-f73299d2d553"
      },
      "source": [
        "df"
      ],
      "execution_count": 12,
      "outputs": [
        {
          "output_type": "execute_result",
          "data": {
            "text/html": [
              "<div>\n",
              "<style scoped>\n",
              "    .dataframe tbody tr th:only-of-type {\n",
              "        vertical-align: middle;\n",
              "    }\n",
              "\n",
              "    .dataframe tbody tr th {\n",
              "        vertical-align: top;\n",
              "    }\n",
              "\n",
              "    .dataframe thead th {\n",
              "        text-align: right;\n",
              "    }\n",
              "</style>\n",
              "<table border=\"1\" class=\"dataframe\">\n",
              "  <thead>\n",
              "    <tr style=\"text-align: right;\">\n",
              "      <th></th>\n",
              "      <th>Provider Number</th>\n",
              "      <th>Address 1</th>\n",
              "      <th>Address 2</th>\n",
              "      <th>Address 3</th>\n",
              "      <th>City</th>\n",
              "      <th>State</th>\n",
              "      <th>ZIP Code</th>\n",
              "      <th>County</th>\n",
              "      <th>Phone Number</th>\n",
              "      <th>Hospital Type</th>\n",
              "      <th>Hospital Ownership</th>\n",
              "      <th>Emergency Services</th>\n",
              "    </tr>\n",
              "    <tr>\n",
              "      <th>Hospital Name</th>\n",
              "      <th></th>\n",
              "      <th></th>\n",
              "      <th></th>\n",
              "      <th></th>\n",
              "      <th></th>\n",
              "      <th></th>\n",
              "      <th></th>\n",
              "      <th></th>\n",
              "      <th></th>\n",
              "      <th></th>\n",
              "      <th></th>\n",
              "      <th></th>\n",
              "    </tr>\n",
              "  </thead>\n",
              "  <tbody>\n",
              "    <tr>\n",
              "      <th>SOUTHEAST ALABAMA MEDICAL CENTER</th>\n",
              "      <td>010001</td>\n",
              "      <td>1108 ROSS CLARK CIRCLE</td>\n",
              "      <td>NaN</td>\n",
              "      <td>NaN</td>\n",
              "      <td>DOTHAN</td>\n",
              "      <td>AL</td>\n",
              "      <td>36301</td>\n",
              "      <td>HOUSTON</td>\n",
              "      <td>3347938701</td>\n",
              "      <td>Acute Care Hospitals</td>\n",
              "      <td>Government - Hospital District or Authority</td>\n",
              "      <td>Yes</td>\n",
              "    </tr>\n",
              "    <tr>\n",
              "      <th>MARSHALL MEDICAL CENTER SOUTH</th>\n",
              "      <td>010005</td>\n",
              "      <td>2505 U S HIGHWAY 431 NORTH</td>\n",
              "      <td>NaN</td>\n",
              "      <td>NaN</td>\n",
              "      <td>BOAZ</td>\n",
              "      <td>AL</td>\n",
              "      <td>35957</td>\n",
              "      <td>MARSHALL</td>\n",
              "      <td>2565938310</td>\n",
              "      <td>Acute Care Hospitals</td>\n",
              "      <td>Government - Hospital District or Authority</td>\n",
              "      <td>Yes</td>\n",
              "    </tr>\n",
              "    <tr>\n",
              "      <th>ELIZA COFFEE MEMORIAL HOSPITAL</th>\n",
              "      <td>010006</td>\n",
              "      <td>205 MARENGO STREET</td>\n",
              "      <td>NaN</td>\n",
              "      <td>NaN</td>\n",
              "      <td>FLORENCE</td>\n",
              "      <td>AL</td>\n",
              "      <td>35631</td>\n",
              "      <td>LAUDERDALE</td>\n",
              "      <td>2567688400</td>\n",
              "      <td>Acute Care Hospitals</td>\n",
              "      <td>Government - Hospital District or Authority</td>\n",
              "      <td>Yes</td>\n",
              "    </tr>\n",
              "    <tr>\n",
              "      <th>MIZELL MEMORIAL HOSPITAL</th>\n",
              "      <td>010007</td>\n",
              "      <td>702 N MAIN ST</td>\n",
              "      <td>NaN</td>\n",
              "      <td>NaN</td>\n",
              "      <td>OPP</td>\n",
              "      <td>AL</td>\n",
              "      <td>36467</td>\n",
              "      <td>COVINGTON</td>\n",
              "      <td>3344933541</td>\n",
              "      <td>Acute Care Hospitals</td>\n",
              "      <td>Voluntary non-profit - Private</td>\n",
              "      <td>Yes</td>\n",
              "    </tr>\n",
              "    <tr>\n",
              "      <th>CRENSHAW COMMUNITY HOSPITAL</th>\n",
              "      <td>010008</td>\n",
              "      <td>101 HOSPITAL CIRCLE</td>\n",
              "      <td>NaN</td>\n",
              "      <td>NaN</td>\n",
              "      <td>LUVERNE</td>\n",
              "      <td>AL</td>\n",
              "      <td>36049</td>\n",
              "      <td>CRENSHAW</td>\n",
              "      <td>3343353374</td>\n",
              "      <td>Acute Care Hospitals</td>\n",
              "      <td>Proprietary</td>\n",
              "      <td>Yes</td>\n",
              "    </tr>\n",
              "    <tr>\n",
              "      <th>...</th>\n",
              "      <td>...</td>\n",
              "      <td>...</td>\n",
              "      <td>...</td>\n",
              "      <td>...</td>\n",
              "      <td>...</td>\n",
              "      <td>...</td>\n",
              "      <td>...</td>\n",
              "      <td>...</td>\n",
              "      <td>...</td>\n",
              "      <td>...</td>\n",
              "      <td>...</td>\n",
              "      <td>...</td>\n",
              "    </tr>\n",
              "    <tr>\n",
              "      <th>WESTBURY COMMUNITY HOSPITAL, LLC</th>\n",
              "      <td>670072</td>\n",
              "      <td>5556 GASMER</td>\n",
              "      <td>NaN</td>\n",
              "      <td>NaN</td>\n",
              "      <td>HOUSTON</td>\n",
              "      <td>TX</td>\n",
              "      <td>77035</td>\n",
              "      <td>HARRIS</td>\n",
              "      <td>7134222650</td>\n",
              "      <td>Acute Care Hospitals</td>\n",
              "      <td>Proprietary</td>\n",
              "      <td>Yes</td>\n",
              "    </tr>\n",
              "    <tr>\n",
              "      <th>METHODIST HOSPITAL FOR SURGERY</th>\n",
              "      <td>670073</td>\n",
              "      <td>17101 DALLAS PARKWAY</td>\n",
              "      <td>NaN</td>\n",
              "      <td>NaN</td>\n",
              "      <td>ADDISON</td>\n",
              "      <td>TX</td>\n",
              "      <td>75001</td>\n",
              "      <td>DALLAS</td>\n",
              "      <td>4692483900</td>\n",
              "      <td>Acute Care Hospitals</td>\n",
              "      <td>Proprietary</td>\n",
              "      <td>Yes</td>\n",
              "    </tr>\n",
              "    <tr>\n",
              "      <th>ST LUKE'S HOSPITAL AT THE VINTAGE, LLC</th>\n",
              "      <td>670075</td>\n",
              "      <td>20171 CHASEWOOD PARK DRIVE</td>\n",
              "      <td>NaN</td>\n",
              "      <td>NaN</td>\n",
              "      <td>HOUSTON</td>\n",
              "      <td>TX</td>\n",
              "      <td>77070</td>\n",
              "      <td>HARRIS</td>\n",
              "      <td>8325345000</td>\n",
              "      <td>Acute Care Hospitals</td>\n",
              "      <td>Proprietary</td>\n",
              "      <td>Yes</td>\n",
              "    </tr>\n",
              "    <tr>\n",
              "      <th>HERITAGE PARK SURGICAL HOSPITAL</th>\n",
              "      <td>670076</td>\n",
              "      <td>3601 CALAIS DRIVE</td>\n",
              "      <td>NaN</td>\n",
              "      <td>NaN</td>\n",
              "      <td>SHERMAN</td>\n",
              "      <td>TX</td>\n",
              "      <td>75090</td>\n",
              "      <td>GRAYSON</td>\n",
              "      <td>9038133728</td>\n",
              "      <td>Acute Care Hospitals</td>\n",
              "      <td>Proprietary</td>\n",
              "      <td>Yes</td>\n",
              "    </tr>\n",
              "    <tr>\n",
              "      <th>METHODIST WEST HOUSTON HOSPITAL</th>\n",
              "      <td>670077</td>\n",
              "      <td>18500 KATY FREEWAY</td>\n",
              "      <td>NaN</td>\n",
              "      <td>NaN</td>\n",
              "      <td>HOUSTON</td>\n",
              "      <td>TX</td>\n",
              "      <td>77094</td>\n",
              "      <td>HARRIS</td>\n",
              "      <td>8325221000</td>\n",
              "      <td>Acute Care Hospitals</td>\n",
              "      <td>Voluntary non-profit - Private</td>\n",
              "      <td>Yes</td>\n",
              "    </tr>\n",
              "  </tbody>\n",
              "</table>\n",
              "<p>4826 rows × 12 columns</p>\n",
              "</div>"
            ],
            "text/plain": [
              "                                       Provider Number  ... Emergency Services\n",
              "Hospital Name                                           ...                   \n",
              "SOUTHEAST ALABAMA MEDICAL CENTER                010001  ...                Yes\n",
              "MARSHALL MEDICAL CENTER SOUTH                   010005  ...                Yes\n",
              "ELIZA COFFEE MEMORIAL HOSPITAL                  010006  ...                Yes\n",
              "MIZELL MEMORIAL HOSPITAL                        010007  ...                Yes\n",
              "CRENSHAW COMMUNITY HOSPITAL                     010008  ...                Yes\n",
              "...                                                ...  ...                ...\n",
              "WESTBURY COMMUNITY HOSPITAL, LLC                670072  ...                Yes\n",
              "METHODIST HOSPITAL FOR SURGERY                  670073  ...                Yes\n",
              "ST LUKE'S HOSPITAL AT THE VINTAGE, LLC          670075  ...                Yes\n",
              "HERITAGE PARK SURGICAL HOSPITAL                 670076  ...                Yes\n",
              "METHODIST WEST HOUSTON HOSPITAL                 670077  ...                Yes\n",
              "\n",
              "[4826 rows x 12 columns]"
            ]
          },
          "metadata": {
            "tags": []
          },
          "execution_count": 12
        }
      ]
    },
    {
      "cell_type": "code",
      "metadata": {
        "colab": {
          "base_uri": "https://localhost:8080/",
          "height": 306
        },
        "id": "UDL2CfW5giG1",
        "outputId": "a62007af-1946-4b26-b73b-8faf4fde2bed"
      },
      "source": [
        "df.to_csv('D:/hospitaldatatest.csv')"
      ],
      "execution_count": 13,
      "outputs": [
        {
          "output_type": "error",
          "ename": "FileNotFoundError",
          "evalue": "ignored",
          "traceback": [
            "\u001b[0;31m---------------------------------------------------------------------------\u001b[0m",
            "\u001b[0;31mFileNotFoundError\u001b[0m                         Traceback (most recent call last)",
            "\u001b[0;32m<ipython-input-13-74b0f9d2571a>\u001b[0m in \u001b[0;36m<module>\u001b[0;34m()\u001b[0m\n\u001b[0;32m----> 1\u001b[0;31m \u001b[0mdf\u001b[0m\u001b[0;34m.\u001b[0m\u001b[0mto_csv\u001b[0m\u001b[0;34m(\u001b[0m\u001b[0;34m'D:/hospitaldatatest.csv'\u001b[0m\u001b[0;34m)\u001b[0m\u001b[0;34m\u001b[0m\u001b[0;34m\u001b[0m\u001b[0m\n\u001b[0m",
            "\u001b[0;32m/usr/local/lib/python3.7/dist-packages/pandas/core/generic.py\u001b[0m in \u001b[0;36mto_csv\u001b[0;34m(self, path_or_buf, sep, na_rep, float_format, columns, header, index, index_label, mode, encoding, compression, quoting, quotechar, line_terminator, chunksize, date_format, doublequote, escapechar, decimal, errors)\u001b[0m\n\u001b[1;32m   3168\u001b[0m             \u001b[0mdecimal\u001b[0m\u001b[0;34m=\u001b[0m\u001b[0mdecimal\u001b[0m\u001b[0;34m,\u001b[0m\u001b[0;34m\u001b[0m\u001b[0;34m\u001b[0m\u001b[0m\n\u001b[1;32m   3169\u001b[0m         )\n\u001b[0;32m-> 3170\u001b[0;31m         \u001b[0mformatter\u001b[0m\u001b[0;34m.\u001b[0m\u001b[0msave\u001b[0m\u001b[0;34m(\u001b[0m\u001b[0;34m)\u001b[0m\u001b[0;34m\u001b[0m\u001b[0;34m\u001b[0m\u001b[0m\n\u001b[0m\u001b[1;32m   3171\u001b[0m \u001b[0;34m\u001b[0m\u001b[0m\n\u001b[1;32m   3172\u001b[0m         \u001b[0;32mif\u001b[0m \u001b[0mpath_or_buf\u001b[0m \u001b[0;32mis\u001b[0m \u001b[0;32mNone\u001b[0m\u001b[0;34m:\u001b[0m\u001b[0;34m\u001b[0m\u001b[0;34m\u001b[0m\u001b[0m\n",
            "\u001b[0;32m/usr/local/lib/python3.7/dist-packages/pandas/io/formats/csvs.py\u001b[0m in \u001b[0;36msave\u001b[0;34m(self)\u001b[0m\n\u001b[1;32m    188\u001b[0m                 \u001b[0mencoding\u001b[0m\u001b[0;34m=\u001b[0m\u001b[0mself\u001b[0m\u001b[0;34m.\u001b[0m\u001b[0mencoding\u001b[0m\u001b[0;34m,\u001b[0m\u001b[0;34m\u001b[0m\u001b[0;34m\u001b[0m\u001b[0m\n\u001b[1;32m    189\u001b[0m                 \u001b[0merrors\u001b[0m\u001b[0;34m=\u001b[0m\u001b[0mself\u001b[0m\u001b[0;34m.\u001b[0m\u001b[0merrors\u001b[0m\u001b[0;34m,\u001b[0m\u001b[0;34m\u001b[0m\u001b[0;34m\u001b[0m\u001b[0m\n\u001b[0;32m--> 190\u001b[0;31m                 \u001b[0mcompression\u001b[0m\u001b[0;34m=\u001b[0m\u001b[0mdict\u001b[0m\u001b[0;34m(\u001b[0m\u001b[0mself\u001b[0m\u001b[0;34m.\u001b[0m\u001b[0mcompression_args\u001b[0m\u001b[0;34m,\u001b[0m \u001b[0mmethod\u001b[0m\u001b[0;34m=\u001b[0m\u001b[0mself\u001b[0m\u001b[0;34m.\u001b[0m\u001b[0mcompression\u001b[0m\u001b[0;34m)\u001b[0m\u001b[0;34m,\u001b[0m\u001b[0;34m\u001b[0m\u001b[0;34m\u001b[0m\u001b[0m\n\u001b[0m\u001b[1;32m    191\u001b[0m             )\n\u001b[1;32m    192\u001b[0m             \u001b[0mclose\u001b[0m \u001b[0;34m=\u001b[0m \u001b[0;32mTrue\u001b[0m\u001b[0;34m\u001b[0m\u001b[0;34m\u001b[0m\u001b[0m\n",
            "\u001b[0;32m/usr/local/lib/python3.7/dist-packages/pandas/io/common.py\u001b[0m in \u001b[0;36mget_handle\u001b[0;34m(path_or_buf, mode, encoding, compression, memory_map, is_text, errors)\u001b[0m\n\u001b[1;32m    491\u001b[0m         \u001b[0;32mif\u001b[0m \u001b[0mencoding\u001b[0m\u001b[0;34m:\u001b[0m\u001b[0;34m\u001b[0m\u001b[0;34m\u001b[0m\u001b[0m\n\u001b[1;32m    492\u001b[0m             \u001b[0;31m# Encoding\u001b[0m\u001b[0;34m\u001b[0m\u001b[0;34m\u001b[0m\u001b[0;34m\u001b[0m\u001b[0m\n\u001b[0;32m--> 493\u001b[0;31m             \u001b[0mf\u001b[0m \u001b[0;34m=\u001b[0m \u001b[0mopen\u001b[0m\u001b[0;34m(\u001b[0m\u001b[0mpath_or_buf\u001b[0m\u001b[0;34m,\u001b[0m \u001b[0mmode\u001b[0m\u001b[0;34m,\u001b[0m \u001b[0mencoding\u001b[0m\u001b[0;34m=\u001b[0m\u001b[0mencoding\u001b[0m\u001b[0;34m,\u001b[0m \u001b[0merrors\u001b[0m\u001b[0;34m=\u001b[0m\u001b[0merrors\u001b[0m\u001b[0;34m,\u001b[0m \u001b[0mnewline\u001b[0m\u001b[0;34m=\u001b[0m\u001b[0;34m\"\"\u001b[0m\u001b[0;34m)\u001b[0m\u001b[0;34m\u001b[0m\u001b[0;34m\u001b[0m\u001b[0m\n\u001b[0m\u001b[1;32m    494\u001b[0m         \u001b[0;32melif\u001b[0m \u001b[0mis_text\u001b[0m\u001b[0;34m:\u001b[0m\u001b[0;34m\u001b[0m\u001b[0;34m\u001b[0m\u001b[0m\n\u001b[1;32m    495\u001b[0m             \u001b[0;31m# No explicit encoding\u001b[0m\u001b[0;34m\u001b[0m\u001b[0;34m\u001b[0m\u001b[0;34m\u001b[0m\u001b[0m\n",
            "\u001b[0;31mFileNotFoundError\u001b[0m: [Errno 2] No such file or directory: 'D:/hospitaldatatest.csv'"
          ]
        }
      ]
    },
    {
      "cell_type": "code",
      "metadata": {
        "colab": {
          "base_uri": "https://localhost:8080/",
          "height": 227
        },
        "id": "WsDKh6tbqAIg",
        "outputId": "4c732ee2-a5a2-4d79-a11b-6413bd0ec20f"
      },
      "source": [
        "df.loc[['SOUTHEAST ALABAMA MEDICAL CENTER','MARSHALL MEDICAL CENTER SOUTH']]"
      ],
      "execution_count": 18,
      "outputs": [
        {
          "output_type": "execute_result",
          "data": {
            "text/html": [
              "<div>\n",
              "<style scoped>\n",
              "    .dataframe tbody tr th:only-of-type {\n",
              "        vertical-align: middle;\n",
              "    }\n",
              "\n",
              "    .dataframe tbody tr th {\n",
              "        vertical-align: top;\n",
              "    }\n",
              "\n",
              "    .dataframe thead th {\n",
              "        text-align: right;\n",
              "    }\n",
              "</style>\n",
              "<table border=\"1\" class=\"dataframe\">\n",
              "  <thead>\n",
              "    <tr style=\"text-align: right;\">\n",
              "      <th></th>\n",
              "      <th>Provider Number</th>\n",
              "      <th>Address 1</th>\n",
              "      <th>Address 2</th>\n",
              "      <th>Address 3</th>\n",
              "      <th>City</th>\n",
              "      <th>State</th>\n",
              "      <th>ZIP Code</th>\n",
              "      <th>County</th>\n",
              "      <th>Phone Number</th>\n",
              "      <th>Hospital Type</th>\n",
              "      <th>Hospital Ownership</th>\n",
              "      <th>Emergency Services</th>\n",
              "    </tr>\n",
              "    <tr>\n",
              "      <th>Hospital Name</th>\n",
              "      <th></th>\n",
              "      <th></th>\n",
              "      <th></th>\n",
              "      <th></th>\n",
              "      <th></th>\n",
              "      <th></th>\n",
              "      <th></th>\n",
              "      <th></th>\n",
              "      <th></th>\n",
              "      <th></th>\n",
              "      <th></th>\n",
              "      <th></th>\n",
              "    </tr>\n",
              "  </thead>\n",
              "  <tbody>\n",
              "    <tr>\n",
              "      <th>SOUTHEAST ALABAMA MEDICAL CENTER</th>\n",
              "      <td>010001</td>\n",
              "      <td>1108 ROSS CLARK CIRCLE</td>\n",
              "      <td>NaN</td>\n",
              "      <td>NaN</td>\n",
              "      <td>DOTHAN</td>\n",
              "      <td>AL</td>\n",
              "      <td>36301</td>\n",
              "      <td>HOUSTON</td>\n",
              "      <td>3347938701</td>\n",
              "      <td>Acute Care Hospitals</td>\n",
              "      <td>Government - Hospital District or Authority</td>\n",
              "      <td>Yes</td>\n",
              "    </tr>\n",
              "    <tr>\n",
              "      <th>MARSHALL MEDICAL CENTER SOUTH</th>\n",
              "      <td>010005</td>\n",
              "      <td>2505 U S HIGHWAY 431 NORTH</td>\n",
              "      <td>NaN</td>\n",
              "      <td>NaN</td>\n",
              "      <td>BOAZ</td>\n",
              "      <td>AL</td>\n",
              "      <td>35957</td>\n",
              "      <td>MARSHALL</td>\n",
              "      <td>2565938310</td>\n",
              "      <td>Acute Care Hospitals</td>\n",
              "      <td>Government - Hospital District or Authority</td>\n",
              "      <td>Yes</td>\n",
              "    </tr>\n",
              "  </tbody>\n",
              "</table>\n",
              "</div>"
            ],
            "text/plain": [
              "                                 Provider Number  ... Emergency Services\n",
              "Hospital Name                                     ...                   \n",
              "SOUTHEAST ALABAMA MEDICAL CENTER          010001  ...                Yes\n",
              "MARSHALL MEDICAL CENTER SOUTH             010005  ...                Yes\n",
              "\n",
              "[2 rows x 12 columns]"
            ]
          },
          "metadata": {
            "tags": []
          },
          "execution_count": 18
        }
      ]
    },
    {
      "cell_type": "code",
      "metadata": {
        "colab": {
          "base_uri": "https://localhost:8080/",
          "height": 142
        },
        "id": "N5_poeZyrLX0",
        "outputId": "a8c72e99-d675-4b8d-961e-3a34cebf04e0"
      },
      "source": [
        "df.loc[['SOUTHEAST ALABAMA MEDICAL CENTER','MARSHALL MEDICAL CENTER SOUTH'],['County','City']]"
      ],
      "execution_count": 26,
      "outputs": [
        {
          "output_type": "execute_result",
          "data": {
            "text/html": [
              "<div>\n",
              "<style scoped>\n",
              "    .dataframe tbody tr th:only-of-type {\n",
              "        vertical-align: middle;\n",
              "    }\n",
              "\n",
              "    .dataframe tbody tr th {\n",
              "        vertical-align: top;\n",
              "    }\n",
              "\n",
              "    .dataframe thead th {\n",
              "        text-align: right;\n",
              "    }\n",
              "</style>\n",
              "<table border=\"1\" class=\"dataframe\">\n",
              "  <thead>\n",
              "    <tr style=\"text-align: right;\">\n",
              "      <th></th>\n",
              "      <th>County</th>\n",
              "      <th>City</th>\n",
              "    </tr>\n",
              "    <tr>\n",
              "      <th>Hospital Name</th>\n",
              "      <th></th>\n",
              "      <th></th>\n",
              "    </tr>\n",
              "  </thead>\n",
              "  <tbody>\n",
              "    <tr>\n",
              "      <th>SOUTHEAST ALABAMA MEDICAL CENTER</th>\n",
              "      <td>HOUSTON</td>\n",
              "      <td>DOTHAN</td>\n",
              "    </tr>\n",
              "    <tr>\n",
              "      <th>MARSHALL MEDICAL CENTER SOUTH</th>\n",
              "      <td>MARSHALL</td>\n",
              "      <td>BOAZ</td>\n",
              "    </tr>\n",
              "  </tbody>\n",
              "</table>\n",
              "</div>"
            ],
            "text/plain": [
              "                                    County    City\n",
              "Hospital Name                                     \n",
              "SOUTHEAST ALABAMA MEDICAL CENTER   HOUSTON  DOTHAN\n",
              "MARSHALL MEDICAL CENTER SOUTH     MARSHALL    BOAZ"
            ]
          },
          "metadata": {
            "tags": []
          },
          "execution_count": 26
        }
      ]
    },
    {
      "cell_type": "code",
      "metadata": {
        "colab": {
          "base_uri": "https://localhost:8080/",
          "height": 439
        },
        "id": "3xjZW1ozuykC",
        "outputId": "5bf70f42-ea52-44be-bfc5-dc043dff236a"
      },
      "source": [
        "df.iloc[5:10]"
      ],
      "execution_count": 31,
      "outputs": [
        {
          "output_type": "execute_result",
          "data": {
            "text/html": [
              "<div>\n",
              "<style scoped>\n",
              "    .dataframe tbody tr th:only-of-type {\n",
              "        vertical-align: middle;\n",
              "    }\n",
              "\n",
              "    .dataframe tbody tr th {\n",
              "        vertical-align: top;\n",
              "    }\n",
              "\n",
              "    .dataframe thead th {\n",
              "        text-align: right;\n",
              "    }\n",
              "</style>\n",
              "<table border=\"1\" class=\"dataframe\">\n",
              "  <thead>\n",
              "    <tr style=\"text-align: right;\">\n",
              "      <th></th>\n",
              "      <th>Provider Number</th>\n",
              "      <th>Address 1</th>\n",
              "      <th>Address 2</th>\n",
              "      <th>Address 3</th>\n",
              "      <th>City</th>\n",
              "      <th>State</th>\n",
              "      <th>ZIP Code</th>\n",
              "      <th>County</th>\n",
              "      <th>Phone Number</th>\n",
              "      <th>Hospital Type</th>\n",
              "      <th>Hospital Ownership</th>\n",
              "      <th>Emergency Services</th>\n",
              "    </tr>\n",
              "    <tr>\n",
              "      <th>Hospital Name</th>\n",
              "      <th></th>\n",
              "      <th></th>\n",
              "      <th></th>\n",
              "      <th></th>\n",
              "      <th></th>\n",
              "      <th></th>\n",
              "      <th></th>\n",
              "      <th></th>\n",
              "      <th></th>\n",
              "      <th></th>\n",
              "      <th></th>\n",
              "      <th></th>\n",
              "    </tr>\n",
              "  </thead>\n",
              "  <tbody>\n",
              "    <tr>\n",
              "      <th>HARTSELLE MEDICAL CENTER</th>\n",
              "      <td>010009</td>\n",
              "      <td>201 PINE STREET NORTHWEST</td>\n",
              "      <td>NaN</td>\n",
              "      <td>NaN</td>\n",
              "      <td>HARTSELLE</td>\n",
              "      <td>AL</td>\n",
              "      <td>35640</td>\n",
              "      <td>MORGAN</td>\n",
              "      <td>2567736511</td>\n",
              "      <td>Acute Care Hospitals</td>\n",
              "      <td>Proprietary</td>\n",
              "      <td>Not Available</td>\n",
              "    </tr>\n",
              "    <tr>\n",
              "      <th>MARSHALL MEDICAL CENTER NORTH</th>\n",
              "      <td>010010</td>\n",
              "      <td>8000 ALABAMA HIGHWAY 69</td>\n",
              "      <td>NaN</td>\n",
              "      <td>NaN</td>\n",
              "      <td>GUNTERSVILLE</td>\n",
              "      <td>AL</td>\n",
              "      <td>35976</td>\n",
              "      <td>MARSHALL</td>\n",
              "      <td>2565718000</td>\n",
              "      <td>Acute Care Hospitals</td>\n",
              "      <td>Government - Hospital District or Authority</td>\n",
              "      <td>Yes</td>\n",
              "    </tr>\n",
              "    <tr>\n",
              "      <th>ST VINCENT'S EAST</th>\n",
              "      <td>010011</td>\n",
              "      <td>50 MEDICAL PARK EAST DRIVE</td>\n",
              "      <td>NaN</td>\n",
              "      <td>NaN</td>\n",
              "      <td>BIRMINGHAM</td>\n",
              "      <td>AL</td>\n",
              "      <td>35235</td>\n",
              "      <td>JEFFERSON</td>\n",
              "      <td>2058383122</td>\n",
              "      <td>Acute Care Hospitals</td>\n",
              "      <td>Voluntary non-profit - Private</td>\n",
              "      <td>Yes</td>\n",
              "    </tr>\n",
              "    <tr>\n",
              "      <th>DEKALB REGIONAL MEDICAL CENTER</th>\n",
              "      <td>010012</td>\n",
              "      <td>200 MED CENTER DRIVE</td>\n",
              "      <td>NaN</td>\n",
              "      <td>NaN</td>\n",
              "      <td>FORT PAYNE</td>\n",
              "      <td>AL</td>\n",
              "      <td>35968</td>\n",
              "      <td>DE KALB</td>\n",
              "      <td>2568453150</td>\n",
              "      <td>Acute Care Hospitals</td>\n",
              "      <td>Proprietary</td>\n",
              "      <td>Yes</td>\n",
              "    </tr>\n",
              "    <tr>\n",
              "      <th>SOUTHWEST ALABAMA MEDICAL CENTER</th>\n",
              "      <td>010015</td>\n",
              "      <td>33700 HIGHWAY 43</td>\n",
              "      <td>NaN</td>\n",
              "      <td>NaN</td>\n",
              "      <td>THOMASVILLE</td>\n",
              "      <td>AL</td>\n",
              "      <td>36784</td>\n",
              "      <td>CLARKE</td>\n",
              "      <td>3346366221</td>\n",
              "      <td>Acute Care Hospitals</td>\n",
              "      <td>Proprietary</td>\n",
              "      <td>Not Available</td>\n",
              "    </tr>\n",
              "  </tbody>\n",
              "</table>\n",
              "</div>"
            ],
            "text/plain": [
              "                                 Provider Number  ... Emergency Services\n",
              "Hospital Name                                     ...                   \n",
              "HARTSELLE MEDICAL CENTER                  010009  ...      Not Available\n",
              "MARSHALL MEDICAL CENTER NORTH             010010  ...                Yes\n",
              "ST VINCENT'S EAST                         010011  ...                Yes\n",
              "DEKALB REGIONAL MEDICAL CENTER            010012  ...                Yes\n",
              "SOUTHWEST ALABAMA MEDICAL CENTER          010015  ...      Not Available\n",
              "\n",
              "[5 rows x 12 columns]"
            ]
          },
          "metadata": {
            "tags": []
          },
          "execution_count": 31
        }
      ]
    },
    {
      "cell_type": "code",
      "metadata": {
        "colab": {
          "base_uri": "https://localhost:8080/"
        },
        "id": "wtTthB3kwoF6",
        "outputId": "1a54fffd-37ed-4bfd-d399-2508dcb0a421"
      },
      "source": [
        "len(df[df['Emergency Services']=='Not Available'])"
      ],
      "execution_count": 47,
      "outputs": [
        {
          "output_type": "execute_result",
          "data": {
            "text/plain": [
              "23"
            ]
          },
          "metadata": {
            "tags": []
          },
          "execution_count": 47
        }
      ]
    },
    {
      "cell_type": "code",
      "metadata": {
        "colab": {
          "base_uri": "https://localhost:8080/"
        },
        "id": "7imG728Kw7ln",
        "outputId": "948ed7c1-3f43-4cf2-a652-fee9e09a3c89"
      },
      "source": [
        "df[\"ZIP Code\"]=='35640'"
      ],
      "execution_count": 44,
      "outputs": [
        {
          "output_type": "execute_result",
          "data": {
            "text/plain": [
              "Hospital Name\n",
              "SOUTHEAST ALABAMA MEDICAL CENTER          False\n",
              "MARSHALL MEDICAL CENTER SOUTH             False\n",
              "ELIZA COFFEE MEMORIAL HOSPITAL            False\n",
              "MIZELL MEMORIAL HOSPITAL                  False\n",
              "CRENSHAW COMMUNITY HOSPITAL               False\n",
              "                                          ...  \n",
              "WESTBURY COMMUNITY HOSPITAL, LLC          False\n",
              "METHODIST HOSPITAL FOR SURGERY            False\n",
              "ST LUKE'S HOSPITAL AT THE VINTAGE, LLC    False\n",
              "HERITAGE PARK SURGICAL HOSPITAL           False\n",
              "METHODIST WEST HOUSTON HOSPITAL           False\n",
              "Name: ZIP Code, Length: 4826, dtype: bool"
            ]
          },
          "metadata": {
            "tags": []
          },
          "execution_count": 44
        }
      ]
    },
    {
      "cell_type": "code",
      "metadata": {
        "colab": {
          "base_uri": "https://localhost:8080/",
          "height": 682
        },
        "id": "wKP0mjFo4n1b",
        "outputId": "0dffc12a-13e7-40cd-960d-9e1f13cd2592"
      },
      "source": [
        "df[(df['Emergency Services']=='Not Available')& (df['Hospital Ownership']=='Proprietary')]"
      ],
      "execution_count": 52,
      "outputs": [
        {
          "output_type": "execute_result",
          "data": {
            "text/html": [
              "<div>\n",
              "<style scoped>\n",
              "    .dataframe tbody tr th:only-of-type {\n",
              "        vertical-align: middle;\n",
              "    }\n",
              "\n",
              "    .dataframe tbody tr th {\n",
              "        vertical-align: top;\n",
              "    }\n",
              "\n",
              "    .dataframe thead th {\n",
              "        text-align: right;\n",
              "    }\n",
              "</style>\n",
              "<table border=\"1\" class=\"dataframe\">\n",
              "  <thead>\n",
              "    <tr style=\"text-align: right;\">\n",
              "      <th></th>\n",
              "      <th>Provider Number</th>\n",
              "      <th>Address 1</th>\n",
              "      <th>Address 2</th>\n",
              "      <th>Address 3</th>\n",
              "      <th>City</th>\n",
              "      <th>State</th>\n",
              "      <th>ZIP Code</th>\n",
              "      <th>County</th>\n",
              "      <th>Phone Number</th>\n",
              "      <th>Hospital Type</th>\n",
              "      <th>Hospital Ownership</th>\n",
              "      <th>Emergency Services</th>\n",
              "    </tr>\n",
              "    <tr>\n",
              "      <th>Hospital Name</th>\n",
              "      <th></th>\n",
              "      <th></th>\n",
              "      <th></th>\n",
              "      <th></th>\n",
              "      <th></th>\n",
              "      <th></th>\n",
              "      <th></th>\n",
              "      <th></th>\n",
              "      <th></th>\n",
              "      <th></th>\n",
              "      <th></th>\n",
              "      <th></th>\n",
              "    </tr>\n",
              "  </thead>\n",
              "  <tbody>\n",
              "    <tr>\n",
              "      <th>HARTSELLE MEDICAL CENTER</th>\n",
              "      <td>010009</td>\n",
              "      <td>201 PINE STREET NORTHWEST</td>\n",
              "      <td>NaN</td>\n",
              "      <td>NaN</td>\n",
              "      <td>HARTSELLE</td>\n",
              "      <td>AL</td>\n",
              "      <td>35640</td>\n",
              "      <td>MORGAN</td>\n",
              "      <td>2567736511</td>\n",
              "      <td>Acute Care Hospitals</td>\n",
              "      <td>Proprietary</td>\n",
              "      <td>Not Available</td>\n",
              "    </tr>\n",
              "    <tr>\n",
              "      <th>SOUTHWEST ALABAMA MEDICAL CENTER</th>\n",
              "      <td>010015</td>\n",
              "      <td>33700 HIGHWAY 43</td>\n",
              "      <td>NaN</td>\n",
              "      <td>NaN</td>\n",
              "      <td>THOMASVILLE</td>\n",
              "      <td>AL</td>\n",
              "      <td>36784</td>\n",
              "      <td>CLARKE</td>\n",
              "      <td>3346366221</td>\n",
              "      <td>Acute Care Hospitals</td>\n",
              "      <td>Proprietary</td>\n",
              "      <td>Not Available</td>\n",
              "    </tr>\n",
              "    <tr>\n",
              "      <th>HUALAPAI MOUNTAIN MEDICAL CENTER</th>\n",
              "      <td>030128</td>\n",
              "      <td>3801 SANTA ROSA DRIVE</td>\n",
              "      <td>NaN</td>\n",
              "      <td>NaN</td>\n",
              "      <td>KINGMAN</td>\n",
              "      <td>AZ</td>\n",
              "      <td>86401</td>\n",
              "      <td>MOHAVE</td>\n",
              "      <td>9282635000</td>\n",
              "      <td>Acute Care Hospitals</td>\n",
              "      <td>Proprietary</td>\n",
              "      <td>Not Available</td>\n",
              "    </tr>\n",
              "    <tr>\n",
              "      <th>SMITH NORTHVIEW HOSPITAL</th>\n",
              "      <td>110212</td>\n",
              "      <td>4280 NORTH VALDOSTA ROAD</td>\n",
              "      <td>NaN</td>\n",
              "      <td>NaN</td>\n",
              "      <td>VALDOSTA</td>\n",
              "      <td>GA</td>\n",
              "      <td>31602</td>\n",
              "      <td>LOWNDES</td>\n",
              "      <td>2296712002</td>\n",
              "      <td>Acute Care Hospitals</td>\n",
              "      <td>Proprietary</td>\n",
              "      <td>Not Available</td>\n",
              "    </tr>\n",
              "    <tr>\n",
              "      <th>SURGICAL HOSPITAL OF MUNSTER</th>\n",
              "      <td>150170</td>\n",
              "      <td>7847 CALUMET AVE</td>\n",
              "      <td>NaN</td>\n",
              "      <td>NaN</td>\n",
              "      <td>MUNSTER</td>\n",
              "      <td>IN</td>\n",
              "      <td>46321</td>\n",
              "      <td>LAKE</td>\n",
              "      <td>2198365102</td>\n",
              "      <td>Acute Care Hospitals</td>\n",
              "      <td>Proprietary</td>\n",
              "      <td>Not Available</td>\n",
              "    </tr>\n",
              "    <tr>\n",
              "      <th>HEART HOSPITAL OF NEW MEXICO</th>\n",
              "      <td>320083</td>\n",
              "      <td>504 ELM STREET NE</td>\n",
              "      <td>NaN</td>\n",
              "      <td>NaN</td>\n",
              "      <td>ALBUQUERQUE</td>\n",
              "      <td>NM</td>\n",
              "      <td>87102</td>\n",
              "      <td>BERNALILLO</td>\n",
              "      <td>5057242000</td>\n",
              "      <td>Acute Care Hospitals</td>\n",
              "      <td>Proprietary</td>\n",
              "      <td>Not Available</td>\n",
              "    </tr>\n",
              "    <tr>\n",
              "      <th>VISTA HOSPITAL OF DALLAS</th>\n",
              "      <td>450315</td>\n",
              "      <td>2696 WEST WALNUT STREET</td>\n",
              "      <td>NaN</td>\n",
              "      <td>NaN</td>\n",
              "      <td>GARLAND</td>\n",
              "      <td>TX</td>\n",
              "      <td>75042</td>\n",
              "      <td>DALLAS</td>\n",
              "      <td>9722767116</td>\n",
              "      <td>Acute Care Hospitals</td>\n",
              "      <td>Proprietary</td>\n",
              "      <td>Not Available</td>\n",
              "    </tr>\n",
              "    <tr>\n",
              "      <th>MAINLAND MEDICAL CENTER</th>\n",
              "      <td>450530</td>\n",
              "      <td>6801 EMMETT LOWRY EXPRESSWAY</td>\n",
              "      <td>NaN</td>\n",
              "      <td>NaN</td>\n",
              "      <td>TEXAS CITY</td>\n",
              "      <td>TX</td>\n",
              "      <td>77591</td>\n",
              "      <td>GALVESTON</td>\n",
              "      <td>4099385000</td>\n",
              "      <td>Acute Care Hospitals</td>\n",
              "      <td>Proprietary</td>\n",
              "      <td>Not Available</td>\n",
              "    </tr>\n",
              "    <tr>\n",
              "      <th>TEXSAN HEART HOSPITAL</th>\n",
              "      <td>450878</td>\n",
              "      <td>6700 IH 10 WEST</td>\n",
              "      <td>NaN</td>\n",
              "      <td>NaN</td>\n",
              "      <td>SAN ANTONIO</td>\n",
              "      <td>TX</td>\n",
              "      <td>78201</td>\n",
              "      <td>BEXAR</td>\n",
              "      <td>2107368013</td>\n",
              "      <td>Acute Care Hospitals</td>\n",
              "      <td>Proprietary</td>\n",
              "      <td>Not Available</td>\n",
              "    </tr>\n",
              "  </tbody>\n",
              "</table>\n",
              "</div>"
            ],
            "text/plain": [
              "                                 Provider Number  ... Emergency Services\n",
              "Hospital Name                                     ...                   \n",
              "HARTSELLE MEDICAL CENTER                  010009  ...      Not Available\n",
              "SOUTHWEST ALABAMA MEDICAL CENTER          010015  ...      Not Available\n",
              "HUALAPAI MOUNTAIN MEDICAL CENTER          030128  ...      Not Available\n",
              "SMITH NORTHVIEW HOSPITAL                  110212  ...      Not Available\n",
              "SURGICAL HOSPITAL OF MUNSTER              150170  ...      Not Available\n",
              "HEART HOSPITAL OF NEW MEXICO              320083  ...      Not Available\n",
              "VISTA HOSPITAL OF DALLAS                  450315  ...      Not Available\n",
              "MAINLAND MEDICAL CENTER                   450530  ...      Not Available\n",
              "TEXSAN HEART HOSPITAL                     450878  ...      Not Available\n",
              "\n",
              "[9 rows x 12 columns]"
            ]
          },
          "metadata": {
            "tags": []
          },
          "execution_count": 52
        }
      ]
    },
    {
      "cell_type": "code",
      "metadata": {
        "colab": {
          "base_uri": "https://localhost:8080/"
        },
        "id": "JT2VzUqG5ZCz",
        "outputId": "fc03e9b3-47b1-437e-e67d-9a99982e5d10"
      },
      "source": [
        "len(df[(df['Emergency Services']=='Not Available')& (df['Hospital Ownership']=='Proprietary')])"
      ],
      "execution_count": 53,
      "outputs": [
        {
          "output_type": "execute_result",
          "data": {
            "text/plain": [
              "9"
            ]
          },
          "metadata": {
            "tags": []
          },
          "execution_count": 53
        }
      ]
    },
    {
      "cell_type": "code",
      "metadata": {
        "colab": {
          "base_uri": "https://localhost:8080/",
          "height": 359
        },
        "id": "q85oELPn6pem",
        "outputId": "2d1cd521-c459-4ecc-c5af-9a6a4a416342"
      },
      "source": [
        "df.loc[(df['Emergency Services']=='Not Available')& (df['Hospital Ownership']=='Proprietary'),[\"City\"]]"
      ],
      "execution_count": 58,
      "outputs": [
        {
          "output_type": "execute_result",
          "data": {
            "text/html": [
              "<div>\n",
              "<style scoped>\n",
              "    .dataframe tbody tr th:only-of-type {\n",
              "        vertical-align: middle;\n",
              "    }\n",
              "\n",
              "    .dataframe tbody tr th {\n",
              "        vertical-align: top;\n",
              "    }\n",
              "\n",
              "    .dataframe thead th {\n",
              "        text-align: right;\n",
              "    }\n",
              "</style>\n",
              "<table border=\"1\" class=\"dataframe\">\n",
              "  <thead>\n",
              "    <tr style=\"text-align: right;\">\n",
              "      <th></th>\n",
              "      <th>City</th>\n",
              "    </tr>\n",
              "    <tr>\n",
              "      <th>Hospital Name</th>\n",
              "      <th></th>\n",
              "    </tr>\n",
              "  </thead>\n",
              "  <tbody>\n",
              "    <tr>\n",
              "      <th>HARTSELLE MEDICAL CENTER</th>\n",
              "      <td>HARTSELLE</td>\n",
              "    </tr>\n",
              "    <tr>\n",
              "      <th>SOUTHWEST ALABAMA MEDICAL CENTER</th>\n",
              "      <td>THOMASVILLE</td>\n",
              "    </tr>\n",
              "    <tr>\n",
              "      <th>HUALAPAI MOUNTAIN MEDICAL CENTER</th>\n",
              "      <td>KINGMAN</td>\n",
              "    </tr>\n",
              "    <tr>\n",
              "      <th>SMITH NORTHVIEW HOSPITAL</th>\n",
              "      <td>VALDOSTA</td>\n",
              "    </tr>\n",
              "    <tr>\n",
              "      <th>SURGICAL HOSPITAL OF MUNSTER</th>\n",
              "      <td>MUNSTER</td>\n",
              "    </tr>\n",
              "    <tr>\n",
              "      <th>HEART HOSPITAL OF NEW MEXICO</th>\n",
              "      <td>ALBUQUERQUE</td>\n",
              "    </tr>\n",
              "    <tr>\n",
              "      <th>VISTA HOSPITAL OF DALLAS</th>\n",
              "      <td>GARLAND</td>\n",
              "    </tr>\n",
              "    <tr>\n",
              "      <th>MAINLAND MEDICAL CENTER</th>\n",
              "      <td>TEXAS CITY</td>\n",
              "    </tr>\n",
              "    <tr>\n",
              "      <th>TEXSAN HEART HOSPITAL</th>\n",
              "      <td>SAN ANTONIO</td>\n",
              "    </tr>\n",
              "  </tbody>\n",
              "</table>\n",
              "</div>"
            ],
            "text/plain": [
              "                                         City\n",
              "Hospital Name                                \n",
              "HARTSELLE MEDICAL CENTER            HARTSELLE\n",
              "SOUTHWEST ALABAMA MEDICAL CENTER  THOMASVILLE\n",
              "HUALAPAI MOUNTAIN MEDICAL CENTER      KINGMAN\n",
              "SMITH NORTHVIEW HOSPITAL             VALDOSTA\n",
              "SURGICAL HOSPITAL OF MUNSTER          MUNSTER\n",
              "HEART HOSPITAL OF NEW MEXICO      ALBUQUERQUE\n",
              "VISTA HOSPITAL OF DALLAS              GARLAND\n",
              "MAINLAND MEDICAL CENTER            TEXAS CITY\n",
              "TEXSAN HEART HOSPITAL             SAN ANTONIO"
            ]
          },
          "metadata": {
            "tags": []
          },
          "execution_count": 58
        }
      ]
    },
    {
      "cell_type": "code",
      "metadata": {
        "id": "_jgeqohMRFX6"
      },
      "source": [
        "import matplotlib.pyplot as plt"
      ],
      "execution_count": 60,
      "outputs": []
    }
  ]
}